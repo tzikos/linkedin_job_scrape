{
 "cells": [
  {
   "cell_type": "code",
   "execution_count": 8,
   "metadata": {},
   "outputs": [],
   "source": [
    "import pandas as pd\n",
    "import hashlib"
   ]
  },
  {
   "cell_type": "code",
   "execution_count": 2,
   "metadata": {},
   "outputs": [],
   "source": [
    "df = pd.read_csv('/Users/tzikos/Desktop/python tasks/linkedin_job_scrape/expo/FOR_GOOGLE_DRIVE/output_concatenated.csv')"
   ]
  },
  {
   "cell_type": "code",
   "execution_count": 9,
   "metadata": {},
   "outputs": [],
   "source": [
    "\n",
    "def generate_hash_key(data):\n",
    "    if not isinstance(data, bytes):\n",
    "        data = str(data).encode('utf-8')\n",
    "    sha256 = hashlib.sha256()\n",
    "    sha256.update(data)\n",
    "    return sha256.hexdigest()\n"
   ]
  },
  {
   "cell_type": "code",
   "execution_count": 6,
   "metadata": {},
   "outputs": [
    {
     "data": {
      "text/html": [
       "<div>\n",
       "<style scoped>\n",
       "    .dataframe tbody tr th:only-of-type {\n",
       "        vertical-align: middle;\n",
       "    }\n",
       "\n",
       "    .dataframe tbody tr th {\n",
       "        vertical-align: top;\n",
       "    }\n",
       "\n",
       "    .dataframe thead th {\n",
       "        text-align: right;\n",
       "    }\n",
       "</style>\n",
       "<table border=\"1\" class=\"dataframe\">\n",
       "  <thead>\n",
       "    <tr style=\"text-align: right;\">\n",
       "      <th></th>\n",
       "      <th>scrape_date</th>\n",
       "      <th>company</th>\n",
       "      <th>location</th>\n",
       "      <th>posted_time_ago</th>\n",
       "      <th>applicant_number</th>\n",
       "      <th>job_title</th>\n",
       "      <th>job_description</th>\n",
       "      <th>level</th>\n",
       "      <th>employment_type</th>\n",
       "      <th>job_function</th>\n",
       "      <th>industries</th>\n",
       "    </tr>\n",
       "  </thead>\n",
       "  <tbody>\n",
       "    <tr>\n",
       "      <th>0</th>\n",
       "      <td>2024-02-26 00:11</td>\n",
       "      <td>Energy Jobline</td>\n",
       "      <td>Granton, Ontario, Canada</td>\n",
       "      <td>6 days ago</td>\n",
       "      <td>NaN</td>\n",
       "      <td>Développeur ServiceNow in Metropolitan, ON, Ca...</td>\n",
       "      <td>We are looking for a Développeur ServiceNowEne...</td>\n",
       "      <td>Entry level</td>\n",
       "      <td>Full-time</td>\n",
       "      <td>Engineering and Information Technology</td>\n",
       "      <td>Staffing and Recruiting</td>\n",
       "    </tr>\n",
       "  </tbody>\n",
       "</table>\n",
       "</div>"
      ],
      "text/plain": [
       "        scrape_date         company                  location posted_time_ago  \\\n",
       "0  2024-02-26 00:11  Energy Jobline  Granton, Ontario, Canada      6 days ago   \n",
       "\n",
       "   applicant_number                                          job_title  \\\n",
       "0               NaN  Développeur ServiceNow in Metropolitan, ON, Ca...   \n",
       "\n",
       "                                     job_description        level  \\\n",
       "0  We are looking for a Développeur ServiceNowEne...  Entry level   \n",
       "\n",
       "  employment_type                            job_function  \\\n",
       "0       Full-time  Engineering and Information Technology   \n",
       "\n",
       "                industries  \n",
       "0  Staffing and Recruiting  "
      ]
     },
     "execution_count": 6,
     "metadata": {},
     "output_type": "execute_result"
    }
   ],
   "source": [
    "df"
   ]
  },
  {
   "cell_type": "code",
   "execution_count": null,
   "metadata": {},
   "outputs": [],
   "source": [
    "df['company']+df"
   ]
  },
  {
   "cell_type": "code",
   "execution_count": 12,
   "metadata": {},
   "outputs": [
    {
     "data": {
      "text/plain": [
       "Index(['scrape_date', 'company', 'location', 'posted_time_ago',\n",
       "       'applicant_number', 'job_title', 'job_description', 'level',\n",
       "       'employment_type', 'job_function', 'industries', 'hash'],\n",
       "      dtype='object')"
      ]
     },
     "execution_count": 12,
     "metadata": {},
     "output_type": "execute_result"
    }
   ],
   "source": [
    "df.columns"
   ]
  },
  {
   "cell_type": "code",
   "execution_count": 15,
   "metadata": {},
   "outputs": [],
   "source": [
    "df['hash'] = df.apply(lambda row : generate_hash_key(row[\"company\"]+row['location']+row['job_title']+row['level']+row['employment_type']+row['job_function']+row['industries']),axis=1)"
   ]
  }
 ],
 "metadata": {
  "kernelspec": {
   "display_name": "ds_env",
   "language": "python",
   "name": "python3"
  },
  "language_info": {
   "codemirror_mode": {
    "name": "ipython",
    "version": 3
   },
   "file_extension": ".py",
   "mimetype": "text/x-python",
   "name": "python",
   "nbconvert_exporter": "python",
   "pygments_lexer": "ipython3",
   "version": "3.10.6"
  }
 },
 "nbformat": 4,
 "nbformat_minor": 2
}
