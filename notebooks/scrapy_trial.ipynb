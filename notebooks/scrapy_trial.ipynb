{
 "cells": [
  {
   "cell_type": "code",
   "execution_count": 5,
   "metadata": {},
   "outputs": [],
   "source": [
    "import scrapy\n",
    "from scrapy.selector import Selector"
   ]
  },
  {
   "cell_type": "code",
   "execution_count": 6,
   "metadata": {},
   "outputs": [],
   "source": [
    "class LinkedInSpider(scrapy.Spider):\n",
    "    name = 'LinkedIn'\n",
    "    start_urls=['https://www.linkedin.com/jobs/collections/recommended/']\n",
    "\n",
    "    def parse(self, response):\n",
    "        # Use XPath to extract text from each li element\n",
    "        li_elements = response.xpath('//ul[@class=\"scaffold-layout__list-container\"]/li')\n",
    "\n",
    "        for li in li_elements:\n",
    "            # Extract text from each li element\n",
    "            li_text = li.xpath('normalize-space(.)').get()\n",
    "\n",
    "            # You can print or yield the extracted text\n",
    "            print('List item text:', li_text)\n",
    "            yield {'list_item_text': li_text}"
   ]
  }
 ],
 "metadata": {
  "kernelspec": {
   "display_name": "ds_env",
   "language": "python",
   "name": "python3"
  },
  "language_info": {
   "codemirror_mode": {
    "name": "ipython",
    "version": 3
   },
   "file_extension": ".py",
   "mimetype": "text/x-python",
   "name": "python",
   "nbconvert_exporter": "python",
   "pygments_lexer": "ipython3",
   "version": "3.10.6"
  }
 },
 "nbformat": 4,
 "nbformat_minor": 2
}
