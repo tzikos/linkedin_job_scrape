{
 "cells": [
  {
   "attachments": {},
   "cell_type": "markdown",
   "metadata": {},
   "source": [
    "# Libraries"
   ]
  },
  {
   "cell_type": "code",
   "execution_count": 1,
   "metadata": {},
   "outputs": [],
   "source": [
    "import selenium\n",
    "import time\n",
    "from selenium import webdriver\n",
    "from selenium.webdriver.common.by import By\n",
    "from selenium.webdriver.support.ui import WebDriverWait\n",
    "from selenium.webdriver.support import expected_conditions as EC\n",
    "from selenium.webdriver.common.keys import Keys\n",
    "from bs4 import BeautifulSoup"
   ]
  },
  {
   "cell_type": "code",
   "execution_count": 53,
   "metadata": {},
   "outputs": [
    {
     "name": "stderr",
     "output_type": "stream",
     "text": [
      "C:\\Users\\papan\\AppData\\Local\\Temp\\ipykernel_12384\\3521906476.py:3: DeprecationWarning: executable_path has been deprecated, please pass in a Service object\n",
      "  driver = webdriver.Chrome(path)\n"
     ]
    }
   ],
   "source": [
    "# Driver's path\n",
    "path = 'C:/Users/papan/Downloads/chromedriver_win32'\n",
    "driver = webdriver.Chrome(path)\n",
    "# Maximize Window\n",
    "driver.maximize_window() \n",
    "driver.minimize_window() \n",
    "driver.maximize_window() \n",
    "driver.switch_to.window(driver.current_window_handle)\n",
    "driver.implicitly_wait(10)\n",
    "### Login to dummy linked in account and do the same process because of restriction with authwall login\n",
    "\n",
    "# Enter to the site\n",
    "# driver.get('https://www.linkedin.com/login')\n",
    "# time.sleep(2)\n",
    "# # Accept cookies\n",
    "# driver.find_element('xpath','//*[@id=\"artdeco-global-alert-container\"]/div/section/div/div[2]/button[1]').click()\n",
    "# # User Credentials\n",
    "# # Reading txt file where we have our user credentials\n",
    "# with open('user_credentials.txt', 'r',encoding=\"utf-8\") as file:\n",
    "#     user_credentials = file.readlines()\n",
    "#     user_credentials = [line.rstrip() for line in user_credentials]\n",
    "# user_name = user_credentials[0] # First line\n",
    "# password = user_credentials[1] # Second line\n",
    "# driver.find_element('xpath','//*[@id=\"username\"]').send_keys(user_name)\n",
    "# driver.find_element('xpath','//*[@id=\"password\"]').send_keys(password)\n",
    "# time.sleep(1)\n",
    "# # Login button\n",
    "# driver.find_element('xpath','//*[@id=\"organic-div\"]/form/div[3]/button').click()\n",
    "# driver.implicitly_wait(30)\n",
    "# if driver.find_element('xpath','//*[@id=\"ember7\"]/h2').text == 'Confirm your account information':\n",
    "#     driver.find_element('xpath','//*[@id=\"ember20\"]/button[1]').click()\n",
    "driver.get('https://www.linkedin.com/jobs/search/?currentJobId=3592708886&geoId=104677530&location=Greece')\n",
    "time.sleep(5)\n",
    "# driver.execute_script(\"return window.stop();\")\n",
    "driver.find_element('xpath','//*[@id=\"artdeco-global-alert-container\"]/div/section/div/div[2]/button[1]').click()\n",
    "while True:\n",
    "    try:\n",
    "        driver.execute_script(\"window.scrollTo(0, document.body.scrollHeight);\")\n",
    "        if driver.find_element('xpath','//*[@id=\"main-content\"]/section/button').is_displayed() and driver.find_element('xpath','//*[@id=\"main-content\"]/section/button').text.strip() == 'See more jobs':\n",
    "            driver.find_element('xpath','//*[@id=\"main-content\"]/section/button').click()      \n",
    "    except:\n",
    "        break \n"
   ]
  },
  {
   "cell_type": "code",
   "execution_count": 41,
   "metadata": {},
   "outputs": [],
   "source": [
    "jobs_block = driver.find_element(By.CLASS_NAME,'jobs-search__results-list')\n",
    "jobs_list = jobs_block.find_elements(By.TAG_NAME,'li')\n",
    "links = []\n",
    "for job in jobs_list:\n",
    "    # scroll down for each job element\n",
    "    all_links = job.find_elements(By.TAG_NAME,'a')\n",
    "    for a in all_links:\n",
    "        if str(a.get_attribute('href')).startswith(\"https://gr.linkedin.com/jobs/view\") and a.get_attribute('href') not in links: \n",
    "            links.append(a.get_attribute('href'))\n",
    "        else:\n",
    "            pass"
   ]
  }
 ],
 "metadata": {
  "kernelspec": {
   "display_name": "ds_env",
   "language": "python",
   "name": "python3"
  },
  "language_info": {
   "codemirror_mode": {
    "name": "ipython",
    "version": 3
   },
   "file_extension": ".py",
   "mimetype": "text/x-python",
   "name": "python",
   "nbconvert_exporter": "python",
   "pygments_lexer": "ipython3",
   "version": "3.10.6"
  },
  "orig_nbformat": 4
 },
 "nbformat": 4,
 "nbformat_minor": 2
}
