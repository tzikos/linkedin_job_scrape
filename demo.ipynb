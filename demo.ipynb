{
 "cells": [
  {
   "cell_type": "code",
   "execution_count": 1,
   "metadata": {},
   "outputs": [],
   "source": [
    "import selenium\n",
    "import time\n",
    "from selenium import webdriver\n",
    "from selenium.webdriver.common.by import By\n",
    "from selenium.webdriver.support.ui import WebDriverWait\n",
    "from selenium.webdriver.support import expected_conditions as EC\n",
    "from selenium.webdriver.common.keys import Keys\n",
    "from bs4 import BeautifulSoup"
   ]
  },
  {
   "cell_type": "code",
   "execution_count": 10,
   "metadata": {},
   "outputs": [
    {
     "name": "stderr",
     "output_type": "stream",
     "text": [
      "C:\\Users\\papan\\AppData\\Local\\Temp\\ipykernel_1544\\3097825942.py:3: DeprecationWarning: executable_path has been deprecated, please pass in a Service object\n",
      "  driver = webdriver.Chrome(path)\n"
     ]
    }
   ],
   "source": [
    "# Driver's path\n",
    "path = 'C:/Users/papan/Downloads/chromedriver_win32'\n",
    "driver = webdriver.Chrome(path)\n",
    "# Maximize Window\n",
    "driver.maximize_window() \n",
    "driver.minimize_window() \n",
    "driver.maximize_window() \n",
    "driver.switch_to.window(driver.current_window_handle)\n",
    "driver.implicitly_wait(10)\n",
    "# Enter to the site\n",
    "driver.get('https://www.linkedin.com/login')\n",
    "time.sleep(2)\n",
    "# Accept cookies\n",
    "driver.find_element('xpath','//*[@id=\"artdeco-global-alert-container\"]/div/section/div/div[2]/button[1]').click()\n",
    "# User Credentials\n",
    "# Reading txt file where we have our user credentials\n",
    "with open('user_credentials.txt', 'r',encoding=\"utf-8\") as file:\n",
    "    user_credentials = file.readlines()\n",
    "    user_credentials = [line.rstrip() for line in user_credentials]\n",
    "user_name = user_credentials[0] # First line\n",
    "password = user_credentials[1] # Second line\n",
    "driver.find_element('xpath','//*[@id=\"username\"]').send_keys(user_name)\n",
    "driver.find_element('xpath','//*[@id=\"password\"]').send_keys(password)\n",
    "time.sleep(1)\n",
    "# Login button\n",
    "driver.find_element('xpath','//*[@id=\"organic-div\"]/form/div[3]/button').click()\n",
    "driver.implicitly_wait(30)\n",
    "# if driver.find_element('xpath','//*[@id=\"ember7\"]/h2').text == 'Confirm your account information':\n",
    "#     driver.find_element('xpath','//*[@id=\"ember20\"]/button[1]').click()\n",
    "driver.find_element('xpath','//*[@id=\"global-nav\"]/div/nav/ul/li[3]/a').click()\n",
    "time.sleep(5)\n",
    "driver.execute_script(\"return window.stop();\")\n",
    "jobs_block = driver.find_elements(By.ID,'jobs-home-vertical-list__entity-list')\n",
    "links = []\n",
    "for block in jobs_block:\n",
    "    jobs_list = block.find_elements(By.TAG_NAME, 'li')\n",
    "    driver.implicitly_wait(10)\n",
    "    WebDriverWait(driver, 20).until(EC.element_to_be_clickable((By.TAG_NAME, \"a\")))\n",
    "    for job in jobs_list:\n",
    "        innerHTML=job.get_attribute('innerHTML')\n",
    "        soup = BeautifulSoup(innerHTML,'html')\n",
    "        link = soup.find('a',{'class':'ember-view job-card-container__link job-card-list__title'},href=True)\n",
    "        if link:\n",
    "            links.append(link['href'])"
   ]
  },
  {
   "cell_type": "code",
   "execution_count": 11,
   "metadata": {},
   "outputs": [
    {
     "data": {
      "text/plain": [
       "['/jobs/collections/recommended/?currentJobId=3590306565&eBP=JYMBII_JOBS_HOME_ORGANIC&refId=7xvaqrjlS9GA93wS%2F1q07w%3D%3D&trackingId=Kg8yAEKcA1MoSBJtrDPDjw%3D%3D',\n",
       " '/jobs/collections/recommended/?currentJobId=3598111263&eBP=CwEAAAGIDFmBmM_0OYjNJOT7PBvoLJnSWJEjGp8zxD5b3EWF0ZZgV9wIl8u16WcTuCVFSbdCYVu8FZXsduduEGsqNYRf9FBqEX0-vEDBSaWDqkO8uBnU_jo440j0QNEq_3pnZaOFTrLhF965jEqEoe4W6W6cCyU-a_itsqC2Px-iz4lM7ymn72gulY6WGiBMnVHjK9MmmvyC7idLg_SuOnFcvMTQuHcYMo2NfLkAz2AqenzvNKh6Hu_YnOj4RDJa-it_0gcSWmd7kM6Htcyh7OLtebcphU_NRo6bBi4RRxedf7x-2nqWw3wVzoGXPhNz4OCR8ur7S1qxzsubSmv1Fpd9n7rP38_tUfU8KPmIUoBRlDE&refId=7xvaqrjlS9GA93wS%2F1q07w%3D%3D&trackingId=LmMOyWayOOGkxoqY4vroLA%3D%3D',\n",
       " '/jobs/collections/recommended/?currentJobId=3599846072&eBP=CwEAAAGIDFmBmND7bGAI2EVv2MqUfiVzY2CkGLTza-SY2L83A17aUtfuEjoAfkc6fxw0Rx1xX19Z8J5oOhLl2oqC5bFg6Qa8naNUDgIKaE0mckEWgzvlRBj0hVbHBaJeOfN0T7w-_iWkRitoCHpYpkticp_uKwopLyAZwMP6t09_0mjE0C2f3-DFo3sxbc-OdzIO0go2To3m64vFOIecmernxy4jjurtVfldkkAJ32EeI4JZ5I3qAnw74-cM5BNQbNZiWeFJOnfxxTM0PRvzUoRqA_8PmJV_lnt1lmxTyzqlHcqivPTdsBno30o0rCzoWIh8m4Pu5Qd-JCCfHwxM01Wls2SKnnCLt7Dbl1I2Zah8&refId=7xvaqrjlS9GA93wS%2F1q07w%3D%3D&trackingId=t3OyEJC5ZWqH%2Fvp17QJsMg%3D%3D',\n",
       " '/jobs/collections/recommended/?currentJobId=3574809228&eBP=CwEAAAGIDFmGCmzsrzyvRxbj_tyJfTeAu6Dy35SgBzYyCoYGDH5THNCsVtSBj_yqnOF-wz55McgASsPdwlqzW0Ppgsxh2fuOf_SwRTeoX7uvqKxQzf3BsMr4MB_XaCTIwO8BIDcrLMWYx8FS-vVwGk5cy-7fkNmPhOnuMFI85VfJqu1Jl7KjLyQybb64WqtmTeJiBrag7bbCaDVUw_eyLfX1_li4qA6IHH0yP2P-bp7PlsAadb6MdABXZE3WRPodHIc1AOx_qlfnL2EG7FCxynm8ndwdvyHsP5Ru6sPpNlJD-tU_xS7Nc4Y6FX-1tzHgJIOU05A&refId=f7pDjM8Q8RQtP9T39O5gjQ%3D%3D&trackingId=Q6sAvx0F4pJSj9rqXCoX2Q%3D%3D',\n",
       " '/jobs/collections/recommended/?currentJobId=3601891899&eBP=JYMBII_JOBS_HOME_ORGANIC&refId=f7pDjM8Q8RQtP9T39O5gjQ%3D%3D&trackingId=eLa9fFxVjAmSl9lCgd98zg%3D%3D',\n",
       " '/jobs/collections/recommended/?currentJobId=3577079080&eBP=CwEAAAGIDFmGCoEp4RqDIn_QS3ERWDaTj1_Nz5w_GJXTba4ZxsN0LSVc7Rph4UCZeHQrA_h0uo88N-KoX83T4p-Jogve3m53-3Thq-L54rKhsRzv0w-BvmqhIUFsYEmfhs5UIunjfZTEhi0G8G-BsKT4hNW0zATacxh4EN2S8W_9Sk718TMPh0tPuznDLGTJUwbs0ybw8Dh8EVKcC5zfeFI0cDX7rrKR5JmsGEahel7fnWCTPkpdSsL9wat4MMPAzM3l9z9HI_ImylpHijQ4bxTcMu3YM0H6F7qcOE8_YsXHFKPO6otu-SU1agTak8VU-JU-NTMhFtvuasIZCuHbCAFGtfZapJX2oC1sRhq_rA&refId=f7pDjM8Q8RQtP9T39O5gjQ%3D%3D&trackingId=UNgdNo4ViZStU0SbkytWpw%3D%3D',\n",
       " '/jobs/collections/recommended/?currentJobId=3588256943&eBP=CwEAAAGIDFmGCtMLfSiJTnvA0N-I182lWra8fMBUYxOcVM1jVyvQ-eOu2oDzeh38PP6a__1y8_SpMZg01noGTJi_MXqOtYNsJlrA7QxTIMrPyfn7V-xf3Bw26yGTpT3ixGziwGdDSzyqRgmljSat1qa9WnIjL_3GcwcTcoc7V5JekNT7TRcxEsu5HXQqk-Ug7VisHcUrEHccA8PNwyqPGLGx5MwPR315ILKs71dF2g45qj70v7a6_bo1f0DaZT8Wf2PpUW2diZr0xN-5JrWnTw4S8iLHRTfOjYflLXqs80sQlgQH2EoVZTj9OOIfPNAKmD9Y3jkDbndpl-daghPd_hZ1CkUHh42ab_4XjwpNTA&refId=f7pDjM8Q8RQtP9T39O5gjQ%3D%3D&trackingId=Uq%2FVmBqKJtdrp%2BrhAIkMDQ%3D%3D',\n",
       " '/jobs/collections/recommended/?currentJobId=3583031664&eBP=CwEAAAGIDFmGClO4RPTIfvOPogYJKOLn7W1vYiegyp-WPVMl3UVmHL2S00ucppFEiDzkSJ_f2HNGghm9MQy_2mZqebOh-oYmA1YrBOc9EhsI1g9k1lMsdUWia8LGY00XrCmWvWx6_vhic5wsqOqwfi_MGxzuVc9EUX7S5YCQ9_Gx37bs4VzuTV4FHnHywmYSU_sZBPTCpjnmmOIqA7M0r98Tf9j2UQb5JMz3bwsEfE4a_cfpahCY-Jsw8D7F7uUMmjrwRiYlcEfz0Q0Cr14sy8gtRbLAAoeVl0KhMSAeU5WNXmYycuYqwPnNpl8BgLQcs02X91DRKxgNPe5HlIZaxcI-ghIWMGIIOaTNTas0bw&refId=f7pDjM8Q8RQtP9T39O5gjQ%3D%3D&trackingId=mSJfLoExMZhxQadBrav%2BEQ%3D%3D',\n",
       " '/jobs/collections/recommended/?currentJobId=3577351665&eBP=JYMBII_JOBS_HOME_ORGANIC&refId=f7pDjM8Q8RQtP9T39O5gjQ%3D%3D&trackingId=BJiNRQWtW7GJ%2FKpJda79wg%3D%3D',\n",
       " '/jobs/collections/recommended/?currentJobId=3588215163&eBP=CwEAAAGIDFmGCmDz7m98ft3rEdzDJaqMZMBr6IqNrltQuLKVh-Cub1k2JeBLsKcDMuaSNKb1aiYmxRVMkmjp6FDTJMko9p2x9gmXIVCDM_BaO8WPHyBt6-Jw4Wavjo-VnwtUzfBqgorIKDEpdnVPW7uLOigSFD8GgdEtBhNwFnMjSTfb7L0WTuolFQhXabvIpKHn5MjtY3iJgspx_h5cc6bpGXMW8_WlWQnOxlMP6HkvB1FYM9zTQKJiIMUgvOIEjqKyAADEKzg7Un2-D1vtHwZBvVl_b-eYQAuJiOCp-3HTSnsE8CKWluwShElCuqZt2mAo7Lv7juYSNDR59u9_pkQbCuaboK6TrvTrd50zdQ&refId=f7pDjM8Q8RQtP9T39O5gjQ%3D%3D&trackingId=F38FZ%2BqFS%2Bv8uJFaxLgkdQ%3D%3D',\n",
       " '/jobs/collections/recommended/?currentJobId=3557571285&eBP=CwEAAAGIDFmGChozAeO6oTSnYlI9O2oAP3UFoelzQVytFEUAUgrqsHA1KJgJ7IyJrQVziQuk2CC5ZoTSMkISfcM6XeQTq85NGNaQvRdDRXZWBCG8y5YHJNZzTpTuPWkFenAAAOOOQrTRpyIiNqSw0_z_x4MxK2J6t73TcbPi83L_bFhU0D9mAz6a_JInvE6H6qr8wcZfst8-2LiWVPsUybH5OwCFQTR_4hp9S9bpf1rWwhGvBD4qwBMNHufOKqWrlKnOtD8__dEhH9Ewmpmn31ZcKSO2AXxVHx26AGfWM7Hz5r37m61jqOux4EgSR5SXOqV10tPjaQmF-WPW9EoThGlgJXboxv3aTyhXXp2kzA&refId=f7pDjM8Q8RQtP9T39O5gjQ%3D%3D&trackingId=5Ig60YxtfT3m6VWE8Q%2BfIA%3D%3D']"
      ]
     },
     "execution_count": 11,
     "metadata": {},
     "output_type": "execute_result"
    }
   ],
   "source": [
    "links"
   ]
  },
  {
   "cell_type": "code",
   "execution_count": 39,
   "metadata": {},
   "outputs": [
    {
     "data": {
      "text/plain": [
       "11"
      ]
     },
     "execution_count": 39,
     "metadata": {},
     "output_type": "execute_result"
    }
   ],
   "source": [
    "len(jobs_list)"
   ]
  }
 ],
 "metadata": {
  "kernelspec": {
   "display_name": "ds_env",
   "language": "python",
   "name": "python3"
  },
  "language_info": {
   "codemirror_mode": {
    "name": "ipython",
    "version": 3
   },
   "file_extension": ".py",
   "mimetype": "text/x-python",
   "name": "python",
   "nbconvert_exporter": "python",
   "pygments_lexer": "ipython3",
   "version": "3.10.6"
  },
  "orig_nbformat": 4
 },
 "nbformat": 4,
 "nbformat_minor": 2
}
