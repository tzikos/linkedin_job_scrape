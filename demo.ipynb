{
 "cells": [
  {
   "cell_type": "code",
   "execution_count": 14,
   "metadata": {},
   "outputs": [],
   "source": [
    "import selenium\n",
    "import time\n",
    "from selenium import webdriver\n",
    "from selenium.webdriver.common.by import By\n",
    "from selenium.webdriver.support.ui import WebDriverWait\n",
    "from selenium.webdriver.support import expected_conditions as EC\n",
    "from selenium.webdriver.common.keys import Keys\n",
    "from bs4 import BeautifulSoup"
   ]
  },
  {
   "cell_type": "code",
   "execution_count": 4,
   "metadata": {},
   "outputs": [
    {
     "name": "stderr",
     "output_type": "stream",
     "text": [
      "C:\\Users\\papan\\AppData\\Local\\Temp\\ipykernel_12852\\3764508557.py:3: DeprecationWarning: executable_path has been deprecated, please pass in a Service object\n",
      "  driver = webdriver.Chrome(path)\n"
     ]
    }
   ],
   "source": [
    "# Driver's path\n",
    "path = 'C:/Users/papan/Downloads/chromedriver_win32'\n",
    "driver = webdriver.Chrome(path)\n",
    "# Maximize Window\n",
    "driver.maximize_window() \n",
    "driver.minimize_window() \n",
    "driver.maximize_window() \n",
    "driver.switch_to.window(driver.current_window_handle)\n",
    "driver.implicitly_wait(10)\n",
    "# Enter to the site\n",
    "driver.get('https://www.linkedin.com/login')\n",
    "time.sleep(2)\n",
    "# Accept cookies\n",
    "driver.find_element('xpath','//*[@id=\"artdeco-global-alert-container\"]/div/section/div/div[2]/button[1]').click()\n",
    "# User Credentials\n",
    "# Reading txt file where we have our user credentials\n",
    "with open('user_credentials.txt', 'r',encoding=\"utf-8\") as file:\n",
    "    user_credentials = file.readlines()\n",
    "    user_credentials = [line.rstrip() for line in user_credentials]\n",
    "user_name = user_credentials[0] # First line\n",
    "password = user_credentials[1] # Second line\n",
    "driver.find_element('xpath','//*[@id=\"username\"]').send_keys(user_name)\n",
    "driver.find_element('xpath','//*[@id=\"password\"]').send_keys(password)\n",
    "time.sleep(1)\n",
    "# Login button\n",
    "driver.find_element('xpath','//*[@id=\"organic-div\"]/form/div[3]/button').click()\n",
    "driver.implicitly_wait(30)\n",
    "# if driver.find_element('xpath','//*[@id=\"ember7\"]/h2').text == 'Confirm your account information':\n",
    "#     driver.find_element('xpath','//*[@id=\"ember20\"]/button[1]').click()\n",
    "driver.find_element('xpath','//*[@id=\"global-nav\"]/div/nav/ul/li[3]/a').click()\n",
    "time.sleep(5)\n",
    "driver.execute_script(\"return window.stop();\")\n",
    "jobs_block = driver.find_element(By.ID,'jobs-home-vertical-list__entity-list')\n",
    "jobs_list = jobs_block.find_elements(By.TAG_NAME, 'li')\n",
    "driver.implicitly_wait(10)\n",
    "links = []\n",
    "links = []\n",
    "WebDriverWait(driver, 20).until(EC.element_to_be_clickable((By.TAG_NAME, \"a\")))\n",
    "for job in jobs_list:\n",
    "    all_links = job.find_elements(By.CLASS_NAME,'ember-view job-card-container__link job-card-list__title')\n",
    "    for a in all_links:\n",
    "            links.append(a.get_attribute('href'))"
   ]
  },
  {
   "cell_type": "code",
   "execution_count": 36,
   "metadata": {},
   "outputs": [
    {
     "name": "stdout",
     "output_type": "stream",
     "text": [
      "<a aria-label=\"Data Scientist\" class=\"ember-view job-card-container__link job-card-list__title\" data-control-id=\"LLv1js07PQonzwCnoqfziQ==\" href=\"/jobs/collections/recommended/?currentJobId=3600782084&amp;eBP=JYMBII_JOBS_HOME_ORGANIC&amp;refId=km3RLIu%2BX9gxtb2dPlAntg%3D%3D&amp;trackingId=LLv1js07PQonzwCnoqfziQ%3D%3D\" id=\"ember430\" tabindex=\"0\">\n",
      "              Data Scientist\n",
      "            </a>\n",
      "<a aria-label=\"Data Scientist\" class=\"ember-view job-card-container__link job-card-list__title\" data-control-id=\"LLv1js07PQonzwCnoqfziQ==\" href=\"/jobs/collections/recommended/?currentJobId=3600782084&amp;eBP=JYMBII_JOBS_HOME_ORGANIC&amp;refId=km3RLIu%2BX9gxtb2dPlAntg%3D%3D&amp;trackingId=LLv1js07PQonzwCnoqfziQ%3D%3D\" id=\"ember430\" tabindex=\"0\">\n",
      "              Data Scientist\n",
      "            </a>\n",
      "None\n",
      "None\n",
      "None\n",
      "None\n",
      "None\n",
      "None\n",
      "<a aria-label=\"Central Monitor Data Analyst--Associate, Risk Based Monitoring\" class=\"ember-view job-card-container__link job-card-list__title\" data-control-id=\"HLeetYIVp4WFUvmZDCi9Yw==\" href=\"/jobs/collections/recommended/?currentJobId=3496899472&amp;eBP=CwEAAAGIC_cj6nLsD6BLfBijt10oS22SJxZqmuXv9Bbmpg-fkCknHxAEZyWm_46Z8FYB67C1PCJRC-KLMjTTi372IlK3A0215fk_ySpDth-hzI3u1J_6GlDfDUAQ33CdZ9mjFxoM6pKn7A7WFCBjv9DDDqomq7GttJtyuKcfpvSqnwN4HGkaPcdP-5BvRPjvxZhQbJi_guorN-1X7aWTF1KKteIUuCJapxb3jJoAl6gLKAK6idD9b5Mo2C7jogzQ2AKNifIoIWaqsxWfTIwfY04EOKcoo3pwCPE2RXuyB5a5TL_dz_9V-s2t8JsDadOulneND7dkJ9UNoqcXPQ7of9XNEYiSE1DKB2nd3_946FfD&amp;refId=km3RLIu%2BX9gxtb2dPlAntg%3D%3D&amp;trackingId=HLeetYIVp4WFUvmZDCi9Yw%3D%3D\" id=\"ember441\" tabindex=\"0\">\n",
      "              Central Monitor Data Analyst--Associate, Risk Based Monitoring\n",
      "            </a>\n",
      "<a aria-label=\"Central Monitor Data Analyst--Associate, Risk Based Monitoring\" class=\"ember-view job-card-container__link job-card-list__title\" data-control-id=\"HLeetYIVp4WFUvmZDCi9Yw==\" href=\"/jobs/collections/recommended/?currentJobId=3496899472&amp;eBP=CwEAAAGIC_cj6nLsD6BLfBijt10oS22SJxZqmuXv9Bbmpg-fkCknHxAEZyWm_46Z8FYB67C1PCJRC-KLMjTTi372IlK3A0215fk_ySpDth-hzI3u1J_6GlDfDUAQ33CdZ9mjFxoM6pKn7A7WFCBjv9DDDqomq7GttJtyuKcfpvSqnwN4HGkaPcdP-5BvRPjvxZhQbJi_guorN-1X7aWTF1KKteIUuCJapxb3jJoAl6gLKAK6idD9b5Mo2C7jogzQ2AKNifIoIWaqsxWfTIwfY04EOKcoo3pwCPE2RXuyB5a5TL_dz_9V-s2t8JsDadOulneND7dkJ9UNoqcXPQ7of9XNEYiSE1DKB2nd3_946FfD&amp;refId=km3RLIu%2BX9gxtb2dPlAntg%3D%3D&amp;trackingId=HLeetYIVp4WFUvmZDCi9Yw%3D%3D\" id=\"ember441\" tabindex=\"0\">\n",
      "              Central Monitor Data Analyst--Associate, Risk Based Monitoring\n",
      "            </a>\n",
      "None\n",
      "None\n",
      "None\n",
      "None\n",
      "<a aria-label=\"Lead Machine Learning Engineer (Remote Option)\" class=\"ember-view job-card-container__link job-card-list__title\" data-control-id=\"IFz8kYHaeZRrDgU9N1bvEA==\" href=\"/jobs/collections/recommended/?currentJobId=3598991470&amp;eBP=CwEAAAGIC_cj6s514F9aHT1I6dv5EONh13A07tsyaYm_7afQMSFjyZiwixnk6_KRuOIsAOkBHrYmrHelJY5v00-OP9uAstiVe84SGZkb_U70Dm_Dld2fpxHtbB42SBGR4bC_9weKQTETgomzEArJqtnNQf1UzMGm6c8HPbUmJO9c4n-s_lSFNuD9CjU_avMAMj_z699EwnKv0-a6bKjWUQjSgv08tt2ph2_pCQvCwCM1cloTINWhJtzxfhUAOC2KVPCMqTWq3YISvDFTZa7hdveWP6wUH7bdqPcOfRrMQO6uRhf4aZZ1EzSHpztpYh4hb_3VjfcurMt7WerSbeAN1dB2ONbGs4s3deJ8tRfvwffbdnGITf_9KdBpqNm3MDOckrgP4Wk&amp;refId=km3RLIu%2BX9gxtb2dPlAntg%3D%3D&amp;trackingId=IFz8kYHaeZRrDgU9N1bvEA%3D%3D\" id=\"ember451\" tabindex=\"0\">\n",
      "              Lead Machine Learning Engineer (Remote Option)\n",
      "            </a>\n",
      "<a aria-label=\"Lead Machine Learning Engineer (Remote Option)\" class=\"ember-view job-card-container__link job-card-list__title\" data-control-id=\"IFz8kYHaeZRrDgU9N1bvEA==\" href=\"/jobs/collections/recommended/?currentJobId=3598991470&amp;eBP=CwEAAAGIC_cj6s514F9aHT1I6dv5EONh13A07tsyaYm_7afQMSFjyZiwixnk6_KRuOIsAOkBHrYmrHelJY5v00-OP9uAstiVe84SGZkb_U70Dm_Dld2fpxHtbB42SBGR4bC_9weKQTETgomzEArJqtnNQf1UzMGm6c8HPbUmJO9c4n-s_lSFNuD9CjU_avMAMj_z699EwnKv0-a6bKjWUQjSgv08tt2ph2_pCQvCwCM1cloTINWhJtzxfhUAOC2KVPCMqTWq3YISvDFTZa7hdveWP6wUH7bdqPcOfRrMQO6uRhf4aZZ1EzSHpztpYh4hb_3VjfcurMt7WerSbeAN1dB2ONbGs4s3deJ8tRfvwffbdnGITf_9KdBpqNm3MDOckrgP4Wk&amp;refId=km3RLIu%2BX9gxtb2dPlAntg%3D%3D&amp;trackingId=IFz8kYHaeZRrDgU9N1bvEA%3D%3D\" id=\"ember451\" tabindex=\"0\">\n",
      "              Lead Machine Learning Engineer (Remote Option)\n",
      "            </a>\n",
      "None\n",
      "None\n",
      "None\n",
      "None\n",
      "None\n",
      "None\n"
     ]
    }
   ],
   "source": [
    "for job in jobs_list:\n",
    "    innerHTML=job.get_attribute('innerHTML')\n",
    "    soup = BeautifulSoup(innerHTML,'html')\n",
    "    link = soup.find('a',{'class':'ember-view job-card-container__link job-card-list__title'},href=True)\n",
    "    if link:\n",
    "        links.append(link['href'])\n"
   ]
  },
  {
   "cell_type": "code",
   "execution_count": 39,
   "metadata": {},
   "outputs": [
    {
     "data": {
      "text/plain": [
       "11"
      ]
     },
     "execution_count": 39,
     "metadata": {},
     "output_type": "execute_result"
    }
   ],
   "source": [
    "len(jobs_list)"
   ]
  }
 ],
 "metadata": {
  "kernelspec": {
   "display_name": "ds_env",
   "language": "python",
   "name": "python3"
  },
  "language_info": {
   "codemirror_mode": {
    "name": "ipython",
    "version": 3
   },
   "file_extension": ".py",
   "mimetype": "text/x-python",
   "name": "python",
   "nbconvert_exporter": "python",
   "pygments_lexer": "ipython3",
   "version": "3.10.6"
  },
  "orig_nbformat": 4
 },
 "nbformat": 4,
 "nbformat_minor": 2
}
